{
 "cells": [
  {
   "cell_type": "markdown",
   "metadata": {},
   "source": [
    "## Keplerian Elements for Approximate Positions of the Major Planets\n",
    "http://ssd.jpl.nasa.gov/txt/aprx_pos_planets.pdf\n",
    "\n",
    "E.M. Standish  \n",
    "Solar System Dynamics Group  \n",
    "JPL/Caltec\n"
   ]
  },
  {
   "cell_type": "markdown",
   "metadata": {},
   "source": [
    "general imports"
   ]
  },
  {
   "cell_type": "code",
   "execution_count": 1,
   "metadata": {},
   "outputs": [],
   "source": [
    "import numpy as np\n",
    "from numpy import sin, cos, tan, arctan, sqrt, pi, abs, radians\n",
    "from numpy.linalg import norm\n",
    "import matplotlib.pyplot as plt\n",
    "from astropy.time import Time"
   ]
  },
  {
   "cell_type": "code",
   "execution_count": 2,
   "metadata": {},
   "outputs": [],
   "source": [
    "%matplotlib inline"
   ]
  },
  {
   "cell_type": "markdown",
   "metadata": {},
   "source": [
    "**Formulae for Computing Approximate Planetary Positions**  \n",
    "\n",
    "Lower accuracy formulae for planetary positions have a number of important applications when one doesn't need the full accuracy of an integrated ephemeris. They are often used in observation scheduling, telescope pointing, and prediction of certain phenomena as well as in the planning and design of spacecraft missions.\n",
    "\n",
    "Approximate positions of the major planets and Pluto may be found by using Keplerian formulae with their associated elements and rates. Such elements are not intended to represent any sort of mean; they are simply the result of being adjusted for a best fit. As such, it must be noted that the elements are not valid outside the given time-interval over which they were fit. "
   ]
  },
  {
   "cell_type": "markdown",
   "metadata": {},
   "source": [
    "\n",
    "|Keplerian elements       |                                                                 |\n",
    "|:------------------------|:----------------------------------------------------------------|\n",
    "|$a_o, \\dot{a}$           |semi-major axis [au, au/cty]                                     |\n",
    "|$e_o, \\dot{e}$           |eccentricity [ , /cty]                                           |\n",
    "|$I_o, \\dot{I}$           |inclination [deg, deg/cty]                                       |\n",
    "|$L_o, \\dot{L}$           |mean longitude [deg, deg/cty]                                    |\n",
    "|$\\varpi_o, \\dot{\\varpi}$ |longitude of perihelion [deg, deg/cty] $\\;\\varpi = \\omega+\\Omega$|\n",
    "|$\\Omega, \\dot{\\Omega}$  |longitude of the ascending node [deg, deg/cty]                    |\n"
   ]
  },
  {
   "cell_type": "markdown",
   "metadata": {},
   "source": [
    "**Table 1.**\n",
    "Keplerian elements and their rates, with respect to the mean ecliptic  \n",
    "and equinox of J2000, valid for the time-interval 1800 AD - 2050 AD.\n",
    "\n",
    "---"
   ]
  },
  {
   "cell_type": "code",
   "execution_count": 3,
   "metadata": {},
   "outputs": [],
   "source": [
    "#                          a            e            I            L             ϖ             Ω \n",
    "#                          au                       deg          deg           deg           deg\n",
    "elements = np.array([( 0.38709927, 0.20563593,  7.00497902, 252.25032350,  77.45779628,  48.33076593),  # Mercury\n",
    "                     ( 0.72333566, 0.00677672,  3.39467605, 181.97909950, 131.60246718,  76.67984255),  # Venus\n",
    "                     ( 1.00000261, 0.01671123, -0.00001531, 100.46457166, 102.93768193,   0.0       ),  # Earth moon barycenter\n",
    "                     ( 1.52371034, 0.09339410,  1.84969142,  -4.55343205, -23.94362959,  49.55953891),  # Mars\n",
    "                     ( 5.20288700, 0.04838624,  1.30439695,  34.39644051,  14.72847983, 100.47390909),  # Jupiter\n",
    "                     ( 9.53667594, 0.05386179,  2.48599187,  49.95424423,  92.59887831, 113.66242448),  # Saturn\n",
    "                     (19.18916464, 0.04725744,  0.77263783, 313.23810451, 170.95427630,  74.01692503),  # Uranus\n",
    "                     (30.06992276, 0.00859048,  1.77004347, -55.12002969,  44.96476227, 131.78422574),  # Neptune\n",
    "                     (39.48211675, 0.24882730, 17.14001206, 238.92903833, 224.06891629, 110.30393684)], # Pluto\n",
    "                     dtype=[('a', '<f8'), ('e', '<f8'), ('I', '<f8'), ('L', '<f8'), ('ϖ', '<f8'), ('Ω', '<f8')])\n",
    "\n",
    "#                      au/cty        /cty       deg/cty       deg/cty         deg/cty      deg/cty\n",
    "rates = np.array([( 0.00000037,  0.00001906, -0.00594749, 149472.67411175,  0.16047689, -0.12534081),  # Mercury\n",
    "                  ( 0.00000390, -0.00004107, -0.00078890,  58517.81538729,  0.00268329, -0.27769418),  # Venus\n",
    "                  ( 0.00000562, -0.00004392, -0.01294668,  35999.37244981,  0.32327364,  0.0       ),  # Earth moon barycenter\n",
    "                  ( 0.00001847,  0.00007882, -0.00813131,  19140.30268499,  0.44441088, -0.29257343),  # Mars\n",
    "                  (-0.00011607, -0.00013253, -0.00183714,   3034.74612775,  0.21252668,  0.20469106),  # Jupiter\n",
    "                  (-0.00125060, -0.00050991,  0.00193609,   1222.49362201, -0.41897216, -0.28867794),  # Saturn\n",
    "                  (-0.00196176, -0.00004397, -0.00242939,    428.48202785,  0.40805281,  0.04240589),  # Uranus\n",
    "                  ( 0.00026291,  0.00005105,  0.00035372,    218.45945325, -0.32241464, -0.00508664),  # Neptune\n",
    "                  (-0.00031596,  0.00005170,  0.00004818,    145.20780515, -0.04062942, -0.01183482)], # Pluto\n",
    "                  dtype=[('da', '<f8'),('de', '<f8'),('dI', '<f8'),('dL', '<f8'),('dϖ', '<f8'),('dΩ', '<f8')])"
   ]
  },
  {
   "cell_type": "markdown",
   "metadata": {},
   "source": [
    "**JPL Ephemeris Time $(\\mathrm{T_{eph}})$** is a relativistic coordinate time used by JPL for high precision ephemeris and has been used for the ephemerides in the Astronomical Almanac starting in 1984.\n",
    "\n",
    "**Terrestrial Time $(\\mathrm{TT})$** is the \"standard epoch\" for modern astrometric reference data, designated J2000.0, is expressed as a TT instant: J2000.0 is 2000 January 1, 12h TT (JD 2451545.0 TT) at the geocenter. TT runs at the same rate as a time scale based on SI seconds on the surface of the Earth and is a constant offset from TAI. This offset of $32.184$ s is to preserve continuity with previous \"dynamical\" time scales, Terrestrial Dynamical Time (TDT) and Ephemeris Time (ET). It differs from Terrestrial Time only by small periodic terms with an amplitude not exceeding 2 milliseconds.\n",
    "\n",
    "$\\mathrm{T_{eph}} \\approx \\mathrm{TT}$.\n",
    "\n",
    "$\\mathrm{TT} = \\mathrm{TAI} + 32.184\\ \\mathrm{s}$.\n",
    "\n",
    "Therefore,\n",
    "\n",
    "$\\mathrm{TT} =  \\mathrm{UTC} + \\Delta\\mathrm{AT} + 32.184\\ \\mathrm{s}$."
   ]
  },
  {
   "cell_type": "code",
   "execution_count": 4,
   "metadata": {},
   "outputs": [
    {
     "data": {
      "text/plain": [
       "2458552.3081859103"
      ]
     },
     "execution_count": 4,
     "metadata": {},
     "output_type": "execute_result"
    }
   ],
   "source": [
    "# time = Time('2019-03-14 0:00:00'); time.jd\n",
    "time = Time.now();\n",
    "TT = time.tt.jd; TT"
   ]
  },
  {
   "cell_type": "markdown",
   "metadata": {},
   "source": [
    "**Compute each of the planets six elements**\n",
    "\n",
    "$a = a_o + \\dot{a}\\mathrm{T}$, etc.,\n",
    "\n",
    "where  $\\mathrm{T}$ is the number of centuries past J2000.0 (JD 2451545.0 TT)."
   ]
  },
  {
   "cell_type": "markdown",
   "metadata": {},
   "source": [
    "$\\mathrm{T} = (\\mathrm{TT}-2451545.0)\\ /\\ 36525$"
   ]
  },
  {
   "cell_type": "code",
   "execution_count": 5,
   "metadata": {},
   "outputs": [
    {
     "data": {
      "text/plain": [
       "0.19184964232471843"
      ]
     },
     "execution_count": 5,
     "metadata": {},
     "output_type": "execute_result"
    }
   ],
   "source": [
    "T = (TT-2451545.0)/36525; T"
   ]
  },
  {
   "cell_type": "code",
   "execution_count": 6,
   "metadata": {},
   "outputs": [],
   "source": [
    "a = elements['a'] + T*rates['da'] # semi-major axis\n",
    "e = elements['e'] + T*rates['de'] # eccentricity\n",
    "I = radians(elements['I'] + T*rates['dI']) # inclination in radians\n",
    "L = radians(elements['L'] + T*rates['dL']) # mean longitude in radians\n",
    "ϖ = radians(elements['ϖ'] + T*rates['dϖ']) # longitude of perihelion in radians\n",
    "Ω = radians(elements['Ω'] + T*rates['dΩ']) # longitude of the ascending node in radians"
   ]
  },
  {
   "cell_type": "markdown",
   "metadata": {},
   "source": [
    "**Compute the argument of perihelion**\n",
    "\n",
    "$\\omega = \\varpi - \\Omega$"
   ]
  },
  {
   "cell_type": "code",
   "execution_count": 7,
   "metadata": {},
   "outputs": [],
   "source": [
    "ω = ϖ - Ω        # argument of perihelion"
   ]
  },
  {
   "cell_type": "markdown",
   "metadata": {},
   "source": [
    "**Compute the mean anomoly**\n",
    "$M = L - \\varpi$"
   ]
  },
  {
   "cell_type": "markdown",
   "metadata": {},
   "source": [
    "function to modulus the mean anomoly so that $-180^\\circ \\leq \\theta \\leq +180^\\circ$"
   ]
  },
  {
   "cell_type": "code",
   "execution_count": 8,
   "metadata": {},
   "outputs": [],
   "source": [
    "def mod(θ):\n",
    "    while θ > pi: θ -= 2*pi  # in radians\n",
    "    return θ\n",
    "\n",
    "vmod = np.vectorize(mod)"
   ]
  },
  {
   "cell_type": "code",
   "execution_count": 9,
   "metadata": {},
   "outputs": [],
   "source": [
    "M = vmod(L - ϖ)  # mean anomaly"
   ]
  },
  {
   "cell_type": "markdown",
   "metadata": {},
   "source": [
    "**Kepler's Equation**\n",
    "\n",
    "$M = E - e \\cdot \\sin(E)$"
   ]
  },
  {
   "cell_type": "markdown",
   "metadata": {},
   "source": [
    "Function to solve Kepler's equation using the Newton-Raphson method."
   ]
  },
  {
   "cell_type": "code",
   "execution_count": 10,
   "metadata": {},
   "outputs": [],
   "source": [
    "def newton(M, e, eps=1e-15, maxitr=100):\n",
    "    E = M + e*sin(M)\n",
    "    itr = 0; ΔE = 1\n",
    "    while np.abs(ΔE) > eps:\n",
    "        ΔM = M - (E - e*sin(E))\n",
    "        ΔE = ΔM/(1 - e*cos(E)) # error at the current iter\n",
    "        E += ΔE\n",
    "        itr += 1\n",
    "    return E\n",
    "\n",
    "vnewton = np.vectorize(newton)"
   ]
  },
  {
   "cell_type": "markdown",
   "metadata": {},
   "source": [
    "**Compute the eccentric anomaly**"
   ]
  },
  {
   "cell_type": "code",
   "execution_count": 11,
   "metadata": {},
   "outputs": [],
   "source": [
    "E = vnewton(M,e)"
   ]
  },
  {
   "cell_type": "markdown",
   "metadata": {},
   "source": [
    "The **true anomaly** can be derived from the eccentric anomaly\n",
    "\n",
    "$\\nu = 2 \\arctan{\\sqrt{\\frac{1 + e}{1 - e}}}\\cdot\\tan{\\frac{E}{2}}$"
   ]
  },
  {
   "cell_type": "code",
   "execution_count": 12,
   "metadata": {},
   "outputs": [],
   "source": [
    "ν = (2 * arctan(sqrt((1 + e) / (1 - e)) * tan(E / 2)))"
   ]
  },
  {
   "cell_type": "markdown",
   "metadata": {},
   "source": [
    "**Compute the heliocentric coordinates $\\mathrm{\\mathbf{r}'}$**, in the planets orbital plane with x-axis aligned toward perihelion."
   ]
  },
  {
   "cell_type": "markdown",
   "metadata": {},
   "source": [
    "$x = a\\cdot(\\cos{E}-e)$\n",
    "\n",
    "$y = a\\cdot\\sqrt{1-e^2}\\cdot sin{E}$\n",
    "\n",
    "$z = 0$"
   ]
  },
  {
   "cell_type": "code",
   "execution_count": 24,
   "metadata": {},
   "outputs": [],
   "source": [
    "x = a*(cos(E)-e)\n",
    "y = a*sqrt(1-e**2)*sin(E)\n",
    "z = 0"
   ]
  },
  {
   "cell_type": "markdown",
   "metadata": {},
   "source": [
    "**Compute the coordinates $\\mathrm{\\mathbf{r}_{ecl}}$**, in the J2000 ecliptic plane with x-axis aligned toward the equinox."
   ]
  },
  {
   "cell_type": "markdown",
   "metadata": {},
   "source": [
    "$ x_{ecl} = x\\ (\\cos{\\omega}\\cos{\\Omega}-\\sin{\\omega}\\sin{\\Omega}\\cos{I}) + y\\ (-\\sin{\\omega}\\cos{\\Omega}-\\cos{\\omega}\\sin{\\Omega}\\cos{I})$\n",
    "\n",
    "$ y_{ecl} = x\\ (\\cos{\\omega}\\sin{\\Omega}+\\sin{\\omega}\\cos{\\Omega}\\cos{I}) + y\\ (-\\sin{\\omega}\\sin{\\Omega}+\\cos{\\omega}\\cos{\\Omega}\\cos{I})$\n",
    "\n",
    "$ z_{ecl} = x\\ (\\sin{\\omega}\\sin{I}) + y\\ (\\cos{\\omega}\\sin{I})$\n"
   ]
  },
  {
   "cell_type": "markdown",
   "metadata": {},
   "source": [
    "**Rotation Matrices**\n",
    "\n",
    "\\begin{aligned}\n",
    "R_x(\\theta) &= \\left[\\begin{matrix}1 & 0 & 0\\\\\n",
    "                    0 & \\cos{\\left (\\theta \\right )} & - \\sin{\\left (\\theta \\right )}\\\\\n",
    "                    0 & \\sin{\\left (\\theta \\right )} & \\cos{\\left (\\theta \\right )}\n",
    "                    \\end{matrix}\\right]\\\\[12pt]\n",
    "R_y(\\theta) &= \\left[\\begin{matrix}\\cos{\\left (\\theta \\right )} & 0 & \\sin{\\left (\\theta \\right )}\\\\\n",
    "                    0 & 1 & 0\\\\\n",
    "                    -\\sin{\\left (\\theta \\right )} & 0 & \\cos{\\left (\\theta \\right )}\n",
    "                    \\end{matrix}\\right]\\\\[12pt]\n",
    "R_z(\\theta) &= \\left[\\begin{matrix}\\cos{\\left (\\theta \\right )} & - \\sin{\\left (\\theta \\right )} & 0\\\\\n",
    "                    \\sin{\\left (\\theta \\right )} & \\cos{\\left (\\theta \\right )} & 0\\\\\n",
    "                    0 & 0 & 1\n",
    "                    \\end{matrix}\\right]\n",
    "\\end{aligned}"
   ]
  },
  {
   "cell_type": "markdown",
   "metadata": {},
   "source": [
    "---\n",
    "\\begin{equation}\\left[\\begin{matrix}\\cos{\\left (\\Omega \\right )} & - \\sin{\\left (\\Omega \\right )} & 0\\\\\\sin{\\left (\\Omega \\right )} & \\cos{\\left (\\Omega \\right )} & 0\\\\0 & 0 & 1\\end{matrix}\\right]\\cdot\\left[\\begin{matrix}1 & 0 & 0\\\\0 & \\cos{\\left (I \\right )} & - \\sin{\\left (I \\right )}\\\\0 & \\sin{\\left (I \\right )} & \\cos{\\left (I \\right )}\\end{matrix}\\right]\\cdot\\left[\\begin{matrix}\\cos{\\left (\\omega \\right )} & - \\sin{\\left (\\omega \\right )} & 0\\\\\\sin{\\left (\\omega \\right )} & \\cos{\\left (\\omega \\right )} & 0\\\\0 & 0 & 1\\end{matrix}\\right]\\cdot\\left[\\begin{matrix}x\\\\y\\\\z\\end{matrix}\\right]=\\\\[18pt]\n",
    "\\end{equation}\n",
    "\n",
    "\\begin{equation}\n",
    "\\left[\\begin{matrix}x \\left(- \\sin{\\left (\\Omega \\right )} \\sin{\\left (\\omega \\right )} \\cos{\\left (I \\right )} + \\cos{\\left (\\Omega \\right )} \\cos{\\left (\\omega \\right )}\\right) + y \\left(- \\sin{\\left (\\Omega \\right )} \\cos{\\left (I \\right )} \\cos{\\left (\\omega \\right )} - \\sin{\\left (\\omega \\right )} \\cos{\\left (\\Omega \\right )}\\right) + z \\sin{\\left (I \\right )} \\sin{\\left (\\Omega \\right )}\\\\x \\left(\\sin{\\left (\\Omega \\right )} \\cos{\\left (\\omega \\right )} + \\sin{\\left (\\omega \\right )} \\cos{\\left (I \\right )} \\cos{\\left (\\Omega \\right )}\\right) + y \\left(- \\sin{\\left (\\Omega \\right )} \\sin{\\left (\\omega \\right )} + \\cos{\\left (I \\right )} \\cos{\\left (\\Omega \\right )} \\cos{\\left (\\omega \\right )}\\right) - z \\sin{\\left (I \\right )} \\cos{\\left (\\Omega \\right )}\\\\x \\sin{\\left (I \\right )} \\sin{\\left (\\omega \\right )} + y \\sin{\\left (I \\right )} \\cos{\\left (\\omega \\right )} + z \\cos{\\left (I \\right )}\\end{matrix}\\right]\n",
    "\\end{equation}"
   ]
  },
  {
   "cell_type": "code",
   "execution_count": 14,
   "metadata": {},
   "outputs": [],
   "source": [
    "x_ecl, y_ecl, z_ecl = (( cos(ω)*cos(Ω) - sin(ω)*sin(Ω)*cos(I) )*x + ( -sin(ω)*cos(Ω) - cos(ω)*sin(Ω)*cos(I) )*y,\n",
    "                       ( cos(ω)*sin(Ω) + sin(ω)*cos(Ω)*cos(I) )*x + ( -sin(ω)*sin(Ω) + cos(ω)*cos(Ω)*cos(I) )*y,\n",
    "                       (            sin(ω)*sin(I)             )*x + (             cos(ω)*sin(I)             )*y)"
   ]
  },
  {
   "cell_type": "markdown",
   "metadata": {},
   "source": [
    "**Compute the equatorial coordinates $\\mathrm{\\mathbf{r}_{eq}}$**, in the J2000 equatorial plane."
   ]
  },
  {
   "cell_type": "code",
   "execution_count": 15,
   "metadata": {},
   "outputs": [],
   "source": [
    "ε = radians(23.43928)"
   ]
  },
  {
   "cell_type": "code",
   "execution_count": 16,
   "metadata": {},
   "outputs": [],
   "source": [
    "x_eq = x_ecl\n",
    "y_eq = cos(ε)*y_ecl - sin(ε)*z_ecl\n",
    "z_eq = sin(ε)*y_ecl + cos(ε)*z_ecl"
   ]
  },
  {
   "cell_type": "code",
   "execution_count": 35,
   "metadata": {},
   "outputs": [
    {
     "data": {
      "text/plain": [
       "matrix([[0.1057941 ],\n",
       "        [0.33255183],\n",
       "        [0.        ]])"
      ]
     },
     "execution_count": 35,
     "metadata": {},
     "output_type": "execute_result"
    }
   ],
   "source": [
    "P = np.matrix([x[0],y[0],0]); P.T"
   ]
  },
  {
   "cell_type": "code",
   "execution_count": 28,
   "metadata": {},
   "outputs": [],
   "source": [
    "α = np.matrix([[cos(ω[0]), -sin(ω[0]), 0], [sin(ω[0]), cos(ω[0]), 0], [0, 0, 1]])\n",
    "β = np.matrix([[1, 0, 0], [0, cos(I[0]), -sin(I[0])], [0, sin(I[0]), cos(I[0])]])\n",
    "γ = np.matrix([[cos(Ω[0]), -sin(Ω[0]), 0], [sin(Ω[0]), cos(Ω[0]), 0], [0, 0, 1]])\n",
    "δ = np.matrix([[1, 0, 0], [0, cos(ϵ), -sin(ϵ)], [0, sin(ϵ), cos(ϵ)]])"
   ]
  },
  {
   "cell_type": "code",
   "execution_count": 29,
   "metadata": {},
   "outputs": [
    {
     "data": {
      "text/plain": [
       "matrix([[ 0.87307645, -0.48758333,  0.        ],\n",
       "        [ 0.48758333,  0.87307645,  0.        ],\n",
       "        [ 0.        ,  0.        ,  1.        ]])"
      ]
     },
     "execution_count": 29,
     "metadata": {},
     "output_type": "execute_result"
    }
   ],
   "source": [
    "α"
   ]
  },
  {
   "cell_type": "code",
   "execution_count": 30,
   "metadata": {},
   "outputs": [
    {
     "data": {
      "text/plain": [
       "matrix([[ 1.        ,  0.        ,  0.        ],\n",
       "        [ 0.        ,  0.99253799, -0.12193583],\n",
       "        [ 0.        ,  0.12193583,  0.99253799]])"
      ]
     },
     "execution_count": 30,
     "metadata": {},
     "output_type": "execute_result"
    }
   ],
   "source": [
    "β"
   ]
  },
  {
   "cell_type": "code",
   "execution_count": 31,
   "metadata": {},
   "outputs": [
    {
     "data": {
      "text/plain": [
       "matrix([[ 0.66514279, -0.74671619,  0.        ],\n",
       "        [ 0.74671619,  0.66514279,  0.        ],\n",
       "        [ 0.        ,  0.        ,  1.        ]])"
      ]
     },
     "execution_count": 31,
     "metadata": {},
     "output_type": "execute_result"
    }
   ],
   "source": [
    "γ"
   ]
  },
  {
   "cell_type": "code",
   "execution_count": 32,
   "metadata": {},
   "outputs": [
    {
     "data": {
      "text/plain": [
       "matrix([[ 1.        ,  0.        ,  0.        ],\n",
       "        [ 0.        ,  0.91748214, -0.39777698],\n",
       "        [ 0.        ,  0.39777698,  0.91748214]])"
      ]
     },
     "execution_count": 32,
     "metadata": {},
     "output_type": "execute_result"
    }
   ],
   "source": [
    "δ"
   ]
  },
  {
   "cell_type": "code",
   "execution_count": 34,
   "metadata": {},
   "outputs": [
    {
     "data": {
      "text/plain": [
       "matrix([[-0.29983084],\n",
       "        [ 0.17362679],\n",
       "        [ 0.0416931 ]])"
      ]
     },
     "execution_count": 34,
     "metadata": {},
     "output_type": "execute_result"
    }
   ],
   "source": [
    "γ*β*α*P.T"
   ]
  },
  {
   "cell_type": "code",
   "execution_count": null,
   "metadata": {},
   "outputs": [],
   "source": []
  }
 ],
 "metadata": {
  "hide_input": false,
  "kernelspec": {
   "display_name": "Python 3",
   "language": "python",
   "name": "python3"
  },
  "language_info": {
   "codemirror_mode": {
    "name": "ipython",
    "version": 3
   },
   "file_extension": ".py",
   "mimetype": "text/x-python",
   "name": "python",
   "nbconvert_exporter": "python",
   "pygments_lexer": "ipython3",
   "version": "3.7.2"
  },
  "latex_envs": {
   "LaTeX_envs_menu_present": true,
   "autoclose": false,
   "autocomplete": true,
   "bibliofile": "biblio.bib",
   "cite_by": "apalike",
   "current_citInitial": 1,
   "eqLabelWithNumbers": true,
   "eqNumInitial": 1,
   "hotkeys": {
    "equation": "Ctrl-E",
    "itemize": "Ctrl-I"
   },
   "labels_anchors": false,
   "latex_user_defs": false,
   "report_style_numbering": false,
   "user_envs_cfg": false
  },
  "toc": {
   "base_numbering": 1,
   "nav_menu": {},
   "number_sections": false,
   "sideBar": true,
   "skip_h1_title": false,
   "title_cell": "Table of Contents",
   "title_sidebar": "Contents",
   "toc_cell": false,
   "toc_position": {},
   "toc_section_display": true,
   "toc_window_display": false
  }
 },
 "nbformat": 4,
 "nbformat_minor": 2
}
